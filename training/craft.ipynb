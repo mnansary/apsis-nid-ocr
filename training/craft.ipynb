{
 "cells": [
  {
   "cell_type": "code",
   "execution_count": null,
   "metadata": {
    "execution": {
     "iopub.execute_input": "2021-08-11T23:58:11.349385Z",
     "iopub.status.busy": "2021-08-11T23:58:11.349064Z",
     "iopub.status.idle": "2021-08-11T23:58:18.151691Z",
     "shell.execute_reply": "2021-08-11T23:58:18.150616Z",
     "shell.execute_reply.started": "2021-08-11T23:58:11.349353Z"
    },
    "papermill": {
     "duration": 6.845061,
     "end_time": "2021-06-20T08:13:13.775852",
     "exception": false,
     "start_time": "2021-06-20T08:13:06.930791",
     "status": "completed"
    },
    "tags": []
   },
   "outputs": [],
   "source": [
    "GCS_PATH=\"/home/apsisdev/ansary/DATASETS/APSIS/NID/detect/\"\n",
    "#----------------\n",
    "# imports\n",
    "#---------------\n",
    "import tensorflow as tf\n",
    "import random\n",
    "import os\n",
    "import numpy as np\n",
    "import matplotlib.pyplot as plt\n",
    "os.environ['SM_FRAMEWORK'] = 'tf.keras'\n",
    "\n",
    "import segmentation_models as sm\n",
    "\n",
    "#from kaggle_datasets import KaggleDatasets\n",
    "from glob import glob\n",
    "from tqdm.auto import tqdm\n",
    "\n",
    "%matplotlib inline"
   ]
  },
  {
   "cell_type": "code",
   "execution_count": null,
   "metadata": {
    "execution": {
     "iopub.execute_input": "2021-08-11T23:59:13.890662Z",
     "iopub.status.busy": "2021-08-11T23:59:13.890305Z",
     "iopub.status.idle": "2021-08-11T23:59:14.423711Z",
     "shell.execute_reply": "2021-08-11T23:59:14.422924Z",
     "shell.execute_reply.started": "2021-08-11T23:59:13.890631Z"
    },
    "papermill": {
     "duration": 17.589779,
     "end_time": "2021-06-20T08:13:31.376121",
     "exception": false,
     "start_time": "2021-06-20T08:13:13.786342",
     "status": "completed"
    },
    "tags": []
   },
   "outputs": [],
   "source": [
    "#-------------\n",
    "# GCS and files and synth\n",
    "#-------------\n",
    "def get_tfrecs(_path):\n",
    "    gcs_pattern=os.path.join(_path,'*.tfrecord')\n",
    "    file_paths = tf.io.gfile.glob(gcs_pattern)\n",
    "    random.shuffle(file_paths)\n",
    "    return file_paths\n",
    "\n",
    "train_recs =[]\n",
    "eval_recs=[]\n",
    "# synth\n",
    "#GCS_PATH = KaggleDatasets().get_gcs_path('aps-memo-sep')  \n",
    "gcs_path_base=os.path.join(GCS_PATH,\"tfrecords\")\n",
    "\n",
    "base_recs =get_tfrecs(gcs_path_base)\n",
    "train_recs+=base_recs[10:]\n",
    "eval_recs +=base_recs[:10]\n",
    "\n",
    "\n",
    "\n",
    "print(len(eval_recs),len(train_recs))"
   ]
  },
  {
   "cell_type": "code",
   "execution_count": null,
   "metadata": {
    "execution": {
     "iopub.execute_input": "2021-08-11T23:59:49.090085Z",
     "iopub.status.busy": "2021-08-11T23:59:49.089727Z",
     "iopub.status.idle": "2021-08-11T23:59:54.399801Z",
     "shell.execute_reply": "2021-08-11T23:59:54.398840Z",
     "shell.execute_reply.started": "2021-08-11T23:59:49.090055Z"
    },
    "papermill": {
     "duration": 5.895049,
     "end_time": "2021-06-20T08:13:37.281215",
     "exception": false,
     "start_time": "2021-06-20T08:13:31.386166",
     "status": "completed"
    },
    "tags": []
   },
   "outputs": [],
   "source": [
    "#-------------------------------------------------------------\n",
    "# Detect hardware, return appropriate distribution strategy\n",
    "#-------------------------------------------------------------\n",
    "\n",
    "try:\n",
    "    tpu = tf.distribute.cluster_resolver.TPUClusterResolver()  # TPU detection. No parameters necessary if TPU_NAME environment variable is set. On Kaggle this is always the case.\n",
    "    print('Running on TPU ', tpu.master())\n",
    "except ValueError:\n",
    "    tpu = None\n",
    "\n",
    "if tpu:\n",
    "    tf.config.experimental_connect_to_cluster(tpu)\n",
    "    tf.tpu.experimental.initialize_tpu_system(tpu)\n",
    "    strategy = tf.distribute.experimental.TPUStrategy(tpu)\n",
    "    tf.config.optimizer.set_jit(True)\n",
    "else:\n",
    "    strategy = tf.distribute.get_strategy() # default distribution strategy in Tensorflow. Works on CPU and single GPU.\n",
    "\n",
    "print(\"REPLICAS: \", strategy.num_replicas_in_sync)\n",
    "\n",
    "gpus = tf.config.experimental.list_physical_devices('GPU')\n",
    "print(gpus)\n",
    "for gpu in gpus:\n",
    "    tf.config.experimental.set_memory_growth(gpu, True)"
   ]
  },
  {
   "cell_type": "code",
   "execution_count": null,
   "metadata": {
    "execution": {
     "iopub.execute_input": "2021-08-12T00:00:17.435511Z",
     "iopub.status.busy": "2021-08-12T00:00:17.435114Z",
     "iopub.status.idle": "2021-08-12T00:00:17.448891Z",
     "shell.execute_reply": "2021-08-12T00:00:17.447604Z",
     "shell.execute_reply.started": "2021-08-12T00:00:17.435478Z"
    },
    "papermill": {
     "duration": 0.023603,
     "end_time": "2021-06-20T08:13:37.315563",
     "exception": false,
     "start_time": "2021-06-20T08:13:37.29196",
     "status": "completed"
    },
    "tags": []
   },
   "outputs": [],
   "source": [
    "#-------------\n",
    "# data function with tf.data api\n",
    "#-------------\n",
    "DIM=(1024,1024,3)\n",
    "def data_input_fn(recs): \n",
    "    '''\n",
    "      This Function generates data from gcs\n",
    "    '''\n",
    "    \n",
    "    def _parser(example):\n",
    "        feature ={  'image'  : tf.io.FixedLenFeature([],tf.string),\n",
    "                    'charmap' : tf.io.FixedLenFeature([],tf.string),\n",
    "                    'linkmap' : tf.io.FixedLenFeature([],tf.string)\n",
    "        }     \n",
    "        parsed_example=tf.io.parse_single_example(example,feature)\n",
    "        # image\n",
    "        image_raw=parsed_example['image']\n",
    "        image=tf.image.decode_png(image_raw,channels=3)\n",
    "        image=tf.cast(image,tf.float32)/255.0\n",
    "        image=tf.reshape(image,DIM)\n",
    "        \n",
    "        # charmap\n",
    "        charmap=parsed_example['charmap']\n",
    "        charmap=tf.image.decode_png(charmap,channels=1)\n",
    "        charmap=tf.cast(charmap,tf.float32)/255.0\n",
    "        charmap=tf.reshape(charmap,(DIM[0],DIM[1],1))\n",
    "        \n",
    "        # linkmap\n",
    "        linkmap=parsed_example['linkmap']\n",
    "        linkmap=tf.image.decode_png(linkmap,channels=1)\n",
    "        linkmap=tf.cast(linkmap,tf.float32)/255.0\n",
    "        linkmap=tf.reshape(linkmap,(DIM[0],DIM[1],1))\n",
    "        \n",
    "        \n",
    "        target=tf.concat([linkmap,charmap], -1)\n",
    "        \n",
    "        return image,target\n",
    "\n",
    "    dataset = tf.data.TFRecordDataset(recs)\n",
    "    dataset = dataset.map(_parser)\n",
    "    dataset = dataset.shuffle(2048,reshuffle_each_iteration=True)\n",
    "    dataset = dataset.repeat()\n",
    "    dataset = dataset.batch(BATCH_SIZE,drop_remainder=True)\n",
    "    dataset = dataset.prefetch(tf.data.experimental.AUTOTUNE)\n",
    "    return dataset\n",
    "\n"
   ]
  },
  {
   "cell_type": "code",
   "execution_count": null,
   "metadata": {
    "execution": {
     "iopub.execute_input": "2021-08-12T00:00:20.373381Z",
     "iopub.status.busy": "2021-08-12T00:00:20.372840Z",
     "iopub.status.idle": "2021-08-12T00:00:20.381209Z",
     "shell.execute_reply": "2021-08-12T00:00:20.380186Z",
     "shell.execute_reply.started": "2021-08-12T00:00:20.373337Z"
    },
    "papermill": {
     "duration": 0.019786,
     "end_time": "2021-06-20T08:13:37.346221",
     "exception": false,
     "start_time": "2021-06-20T08:13:37.326435",
     "status": "completed"
    },
    "tags": []
   },
   "outputs": [],
   "source": [
    "#-------------------------\n",
    "# train and data paras\n",
    "#-----------------------\n",
    "EPOCHS          = 100\n",
    "if strategy.num_replicas_in_sync==1:\n",
    "    BATCH_SIZE = 1\n",
    "else:\n",
    "    BATCH_SIZE      = 4 * strategy.num_replicas_in_sync\n",
    "\n",
    "STEPS_PER_EPOCH = (len(train_recs)*128)//BATCH_SIZE\n",
    "EVAL_STEPS      = (len(eval_recs)*128)//BATCH_SIZE\n",
    "print(\"Steps:\",STEPS_PER_EPOCH)\n",
    "print(\"Eval Steps:\",EVAL_STEPS)"
   ]
  },
  {
   "cell_type": "code",
   "execution_count": null,
   "metadata": {
    "execution": {
     "iopub.execute_input": "2021-08-12T00:00:26.009513Z",
     "iopub.status.busy": "2021-08-12T00:00:26.008959Z",
     "iopub.status.idle": "2021-08-12T00:00:37.737760Z",
     "shell.execute_reply": "2021-08-12T00:00:37.736709Z",
     "shell.execute_reply.started": "2021-08-12T00:00:26.009476Z"
    },
    "papermill": {
     "duration": 3.719595,
     "end_time": "2021-06-20T08:13:41.076815",
     "exception": false,
     "start_time": "2021-06-20T08:13:37.35722",
     "status": "completed"
    },
    "tags": []
   },
   "outputs": [],
   "source": [
    "#-----------------------\n",
    "# visual\n",
    "#-----------------------\n",
    "train_ds  =   data_input_fn(train_recs)\n",
    "eval_ds   =   data_input_fn(eval_recs)\n",
    "for x,y in eval_ds.take(1):\n",
    "    data=np.squeeze(x[0])\n",
    "    plt.imshow(data)\n",
    "    plt.show()\n",
    "    data=np.squeeze(y[0])\n",
    "    print(data.shape)\n",
    "    for i in range(2):\n",
    "        im=data[:,:,i]\n",
    "        plt.imshow(np.squeeze(im))\n",
    "        plt.show()\n",
    "\n",
    "    print('Image Batch Shape:',x.shape)\n",
    "    print('Target Batch Shape:',y.shape)\n",
    "    "
   ]
  },
  {
   "cell_type": "code",
   "execution_count": null,
   "metadata": {
    "execution": {
     "iopub.execute_input": "2021-08-12T00:05:57.204737Z",
     "iopub.status.busy": "2021-08-12T00:05:57.204383Z",
     "iopub.status.idle": "2021-08-12T00:05:57.213447Z",
     "shell.execute_reply": "2021-08-12T00:05:57.211984Z",
     "shell.execute_reply.started": "2021-08-12T00:05:57.204708Z"
    }
   },
   "outputs": [],
   "source": [
    "def build_model():\n",
    "    mod = sm.Unet('densenet121',input_shape=DIM, classes=3,encoder_weights=None)\n",
    "    #mod.load_weights(\"../input/aps-memo-sep/memo.h5\")\n",
    "    inp=mod.input\n",
    "    x=mod.get_layer(name=\"decoder_stage4b_relu\").output\n",
    "    x = tf.keras.layers.Conv2D(2,(3, 3),padding='same',use_bias=True,kernel_initializer='glorot_uniform',name='final_conv')(x)\n",
    "    x = tf.keras.layers.Activation(\"sigmoid\")(x)\n",
    "    model=tf.keras.Model(inputs=inp,outputs=x)\n",
    "    return model\n",
    "\n",
    "# model=build_model()\n",
    "# model.summary()\n",
    "    "
   ]
  },
  {
   "cell_type": "code",
   "execution_count": null,
   "metadata": {
    "execution": {
     "iopub.execute_input": "2021-08-12T00:05:57.914193Z",
     "iopub.status.busy": "2021-08-12T00:05:57.913820Z",
     "iopub.status.idle": "2021-08-12T00:06:13.659135Z",
     "shell.execute_reply": "2021-08-12T00:06:13.658252Z",
     "shell.execute_reply.started": "2021-08-12T00:05:57.914154Z"
    },
    "papermill": {
     "duration": 22.911052,
     "end_time": "2021-06-20T08:14:04.00176",
     "exception": false,
     "start_time": "2021-06-20T08:13:41.090708",
     "status": "completed"
    },
    "tags": []
   },
   "outputs": [],
   "source": [
    "#---------------\n",
    "# callbacks\n",
    "#---------------\n",
    "# weight file path\n",
    "weight_path=\"memo.h5\"\n",
    "\n",
    "# reduces learning rate on plateau\n",
    "lr_reducer = tf.keras.callbacks.ReduceLROnPlateau(factor=0.1,\n",
    "                                                  cooldown= 10,\n",
    "                                                  patience=10,\n",
    "                                                  verbose =1,\n",
    "                                                  min_lr=0.1e-7)\n",
    "# saves the model\n",
    "model_autosave = tf.keras.callbacks.ModelCheckpoint(filepath=weight_path, \n",
    "                                                   monitor='val_loss', \n",
    "                                                   verbose=1, \n",
    "                                                   save_best_only=True, \n",
    "                                                   mode='min')\n",
    "\n",
    "# early stopping\n",
    "early_stopping = tf.keras.callbacks.EarlyStopping(patience=15, \n",
    "                                                  verbose=1, \n",
    "                                                  mode = 'auto') \n",
    "callbacks= [model_autosave,lr_reducer,early_stopping]\n",
    "                 \n",
    "#---------------\n",
    "# compile\n",
    "#---------------    \n",
    "with strategy.scope():\n",
    "    # model\n",
    "    model = build_model()\n",
    "    # compile\n",
    "    model.compile(optimizer=tf.keras.optimizers.Adam(),loss=tf.keras.losses.MeanSquaredError())\n",
    "\n"
   ]
  },
  {
   "cell_type": "code",
   "execution_count": null,
   "metadata": {
    "execution": {
     "iopub.execute_input": "2021-08-12T00:06:13.660677Z",
     "iopub.status.busy": "2021-08-12T00:06:13.660403Z"
    },
    "papermill": {
     "duration": 3149.416973,
     "end_time": "2021-06-20T09:06:33.442767",
     "exception": false,
     "start_time": "2021-06-20T08:14:04.025794",
     "status": "completed"
    },
    "tags": []
   },
   "outputs": [],
   "source": [
    "history = model.fit(train_ds,\n",
    "                    epochs=EPOCHS,\n",
    "                    steps_per_epoch=STEPS_PER_EPOCH,\n",
    "                    verbose=1, \n",
    "                    validation_data=eval_ds,\n",
    "                    validation_steps=EVAL_STEPS, \n",
    "                    callbacks=callbacks)"
   ]
  },
  {
   "cell_type": "code",
   "execution_count": null,
   "metadata": {
    "papermill": {
     "duration": 7.399901,
     "end_time": "2021-06-20T09:06:48.138405",
     "exception": false,
     "start_time": "2021-06-20T09:06:40.738504",
     "status": "completed"
    },
    "tags": []
   },
   "outputs": [],
   "source": [
    "from IPython.display import FileLink\n",
    "FileLink(r'memo.h5')"
   ]
  },
  {
   "cell_type": "code",
   "execution_count": null,
   "metadata": {},
   "outputs": [],
   "source": []
  }
 ],
 "metadata": {
  "kernelspec": {
   "display_name": "tfgpu",
   "language": "python",
   "name": "tfgpu"
  },
  "language_info": {
   "codemirror_mode": {
    "name": "ipython",
    "version": 3
   },
   "file_extension": ".py",
   "mimetype": "text/x-python",
   "name": "python",
   "nbconvert_exporter": "python",
   "pygments_lexer": "ipython3",
   "version": "3.8.8"
  }
 },
 "nbformat": 4,
 "nbformat_minor": 4
}
