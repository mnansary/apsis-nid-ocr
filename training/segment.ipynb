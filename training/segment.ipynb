{
 "cells": [
  {
   "cell_type": "code",
   "execution_count": null,
   "metadata": {
    "execution": {
     "iopub.execute_input": "2021-09-28T07:29:51.839277Z",
     "iopub.status.busy": "2021-09-28T07:29:51.838916Z",
     "iopub.status.idle": "2021-09-28T07:29:54.029651Z",
     "shell.execute_reply": "2021-09-28T07:29:54.028701Z",
     "shell.execute_reply.started": "2021-09-28T07:29:51.839231Z"
    }
   },
   "outputs": [],
   "source": [
    "GCS_PATH=\"/home/apsisdev/ansary/DATASETS/APSIS/NID/segment/\"\n",
    "#----------------\n",
    "# imports\n",
    "#---------------\n",
    "import tensorflow as tf\n",
    "import random\n",
    "import os\n",
    "os.environ['SM_FRAMEWORK'] = 'tf.keras'\n",
    "import segmentation_models as sm\n",
    "\n",
    "import numpy as np\n",
    "import matplotlib.pyplot as plt\n",
    "#from kaggle_datasets import KaggleDatasets\n",
    "from glob import glob\n",
    "from tqdm.auto import tqdm\n",
    "\n",
    "%matplotlib inline"
   ]
  },
  {
   "cell_type": "code",
   "execution_count": null,
   "metadata": {
    "execution": {
     "iopub.execute_input": "2021-09-28T07:29:54.031154Z",
     "iopub.status.busy": "2021-09-28T07:29:54.030890Z",
     "iopub.status.idle": "2021-09-28T07:29:54.534564Z",
     "shell.execute_reply": "2021-09-28T07:29:54.534007Z",
     "shell.execute_reply.started": "2021-09-28T07:29:54.031118Z"
    }
   },
   "outputs": [],
   "source": [
    "#-------------\n",
    "# GCS and files and synth\n",
    "#-------------\n",
    "def get_tfrecs(_path):\n",
    "    gcs_pattern=os.path.join(_path,'*.tfrecord')\n",
    "    file_paths = tf.io.gfile.glob(gcs_pattern)\n",
    "    random.shuffle(file_paths)\n",
    "    return file_paths\n",
    "\n",
    "train_recs =[]\n",
    "eval_recs=[]\n",
    "# synth\n",
    "#GCS_PATH = KaggleDatasets().get_gcs_path('aps-nid-segment-data')  \n",
    "\n",
    "gcs_path=os.path.join(GCS_PATH,\"tfrecords\")\n",
    "recs =get_tfrecs(gcs_path)\n",
    "train_recs+=recs[20:]\n",
    "eval_recs +=recs[:20]\n",
    "\n",
    "print(len(eval_recs),len(train_recs))"
   ]
  },
  {
   "cell_type": "code",
   "execution_count": null,
   "metadata": {
    "execution": {
     "iopub.execute_input": "2021-09-28T07:29:54.536683Z",
     "iopub.status.busy": "2021-09-28T07:29:54.536449Z",
     "iopub.status.idle": "2021-09-28T07:30:00.121899Z",
     "shell.execute_reply": "2021-09-28T07:30:00.120819Z",
     "shell.execute_reply.started": "2021-09-28T07:29:54.536656Z"
    }
   },
   "outputs": [],
   "source": [
    "#-------------------------------------------------------------\n",
    "# Detect hardware, return appropriate distribution strategy\n",
    "#-------------------------------------------------------------\n",
    "\n",
    "try:\n",
    "    tpu = tf.distribute.cluster_resolver.TPUClusterResolver()  # TPU detection. No parameters necessary if TPU_NAME environment variable is set. On Kaggle this is always the case.\n",
    "    print('Running on TPU ', tpu.master())\n",
    "except ValueError:\n",
    "    tpu = None\n",
    "\n",
    "if tpu:\n",
    "    tf.config.experimental_connect_to_cluster(tpu)\n",
    "    tf.tpu.experimental.initialize_tpu_system(tpu)\n",
    "    strategy = tf.distribute.experimental.TPUStrategy(tpu)\n",
    "    tf.config.optimizer.set_jit(True)\n",
    "else:\n",
    "    strategy = tf.distribute.get_strategy() # default distribution strategy in Tensorflow. Works on CPU and single GPU.\n",
    "\n",
    "print(\"REPLICAS: \", strategy.num_replicas_in_sync)\n",
    "\n",
    "gpus = tf.config.experimental.list_physical_devices('GPU')\n",
    "print(gpus)\n",
    "for gpu in gpus:\n",
    "    tf.config.experimental.set_memory_growth(gpu, True)"
   ]
  },
  {
   "cell_type": "code",
   "execution_count": null,
   "metadata": {
    "execution": {
     "iopub.execute_input": "2021-09-28T07:30:00.123850Z",
     "iopub.status.busy": "2021-09-28T07:30:00.123539Z",
     "iopub.status.idle": "2021-09-28T07:30:00.130818Z",
     "shell.execute_reply": "2021-09-28T07:30:00.130018Z",
     "shell.execute_reply.started": "2021-09-28T07:30:00.123811Z"
    }
   },
   "outputs": [],
   "source": [
    "#-------------------------\n",
    "# train and data paras\n",
    "#-----------------------\n",
    "EPOCHS          = 500\n",
    "if strategy.num_replicas_in_sync==1:\n",
    "    BATCH_SIZE = 32\n",
    "else:\n",
    "    BATCH_SIZE = 16 * strategy.num_replicas_in_sync\n",
    "\n",
    "STEPS_PER_EPOCH = (len(train_recs)*128)//BATCH_SIZE\n",
    "EVAL_STEPS      = (len(eval_recs)*128)//BATCH_SIZE\n",
    "print(\"Steps:\",STEPS_PER_EPOCH)\n",
    "print(\"Eval Steps:\",EVAL_STEPS)"
   ]
  },
  {
   "cell_type": "code",
   "execution_count": null,
   "metadata": {
    "execution": {
     "iopub.execute_input": "2021-09-28T07:30:00.133153Z",
     "iopub.status.busy": "2021-09-28T07:30:00.132430Z",
     "iopub.status.idle": "2021-09-28T07:30:00.374028Z",
     "shell.execute_reply": "2021-09-28T07:30:00.373176Z",
     "shell.execute_reply.started": "2021-09-28T07:30:00.133111Z"
    }
   },
   "outputs": [],
   "source": [
    "#-------------\n",
    "# data function with tf.data api\n",
    "#-------------\n",
    "DIM=(256,256,3)\n",
    "def data_input_fn(recs): \n",
    "    '''\n",
    "      This Function generates data from gcs\n",
    "    '''\n",
    "    \n",
    "    def _parser(example):\n",
    "        feature ={  'image'  : tf.io.FixedLenFeature([],tf.string),\n",
    "                    'mask' : tf.io.FixedLenFeature([],tf.string),\n",
    "                    'label' : tf.io.FixedLenFeature([2],tf.int64),\n",
    "                    'bbox' : tf.io.FixedLenFeature([8],tf.int64)\n",
    "        }     \n",
    "        parsed_example=tf.io.parse_single_example(example,feature)\n",
    "        # image\n",
    "        image_raw=parsed_example['image']\n",
    "        image=tf.image.decode_png(image_raw,channels=3)\n",
    "        image=tf.cast(image,tf.float32)/255.0\n",
    "        image=tf.reshape(image,DIM)\n",
    "        \n",
    "        # mask\n",
    "        mask=parsed_example['mask']\n",
    "        mask=tf.image.decode_png(mask,channels=1)\n",
    "        mask=tf.cast(mask,tf.float32)/255.0\n",
    "        mask=tf.reshape(mask,(DIM[0],DIM[1],1))\n",
    "        \n",
    "        # label\n",
    "        label=parsed_example['label']\n",
    "        label=tf.cast(label,tf.float32)\n",
    "\n",
    "        \n",
    "        outputs={\"label\":label,\"sigmoid\":mask}\n",
    "        return image,outputs\n",
    "\n",
    "    dataset = tf.data.TFRecordDataset(recs)\n",
    "    dataset = dataset.map(_parser)\n",
    "    dataset = dataset.shuffle(2048,reshuffle_each_iteration=True)\n",
    "    dataset = dataset.repeat()\n",
    "    dataset = dataset.batch(BATCH_SIZE,drop_remainder=True)\n",
    "    dataset = dataset.prefetch(tf.data.experimental.AUTOTUNE)\n",
    "    return dataset\n",
    "\n",
    "train_ds  =   data_input_fn(train_recs)\n",
    "eval_ds   =   data_input_fn(eval_recs)"
   ]
  },
  {
   "cell_type": "code",
   "execution_count": null,
   "metadata": {
    "execution": {
     "iopub.execute_input": "2021-09-28T07:30:00.375678Z",
     "iopub.status.busy": "2021-09-28T07:30:00.375365Z",
     "iopub.status.idle": "2021-09-28T07:30:09.657693Z",
     "shell.execute_reply": "2021-09-28T07:30:09.656782Z",
     "shell.execute_reply.started": "2021-09-28T07:30:00.375639Z"
    }
   },
   "outputs": [],
   "source": [
    "#-----------------------\n",
    "# visual\n",
    "#-----------------------\n",
    "import cv2\n",
    "\n",
    "for x,y in eval_ds.take(1):\n",
    "    l=y[\"label\"]\n",
    "    m=y[\"sigmoid\"]\n",
    "    data=np.squeeze(m[0])\n",
    "    plt.imshow(data)\n",
    "    plt.show()\n",
    "    print(np.unique(data))\n",
    "    # image\n",
    "    data=np.squeeze(x[0])\n",
    "    plt.imshow(data)\n",
    "    plt.show()\n",
    "    \n",
    "    print(l[0])\n",
    "    "
   ]
  },
  {
   "cell_type": "markdown",
   "metadata": {},
   "source": [
    "# Modeling\n",
    "\n",
    "```python\n",
    "```"
   ]
  },
  {
   "cell_type": "code",
   "execution_count": null,
   "metadata": {
    "execution": {
     "iopub.execute_input": "2021-09-28T07:30:09.659344Z",
     "iopub.status.busy": "2021-09-28T07:30:09.659085Z",
     "iopub.status.idle": "2021-09-28T07:30:09.667959Z",
     "shell.execute_reply": "2021-09-28T07:30:09.667013Z",
     "shell.execute_reply.started": "2021-09-28T07:30:09.659317Z"
    }
   },
   "outputs": [],
   "source": [
    "def get_model(data_dim=(256,256,3),num_class=2):\n",
    "    unet=sm.Unet(\"densenet121\",input_shape=data_dim,encoder_weights=None,classes=1)\n",
    "    inp  =unet.input\n",
    "    # class\n",
    "    label=unet.get_layer(name=\"relu\").output\n",
    "    label = tf.keras.layers.GlobalAveragePooling2D()(label)\n",
    "    label=tf.keras.layers.Dense(num_class,activation=\"softmax\",name=\"label\")(label)\n",
    "    # mask\n",
    "    mask=unet.output\n",
    "    model=tf.keras.Model(inputs=inp,outputs=[label,mask])\n",
    "    return model"
   ]
  },
  {
   "cell_type": "code",
   "execution_count": null,
   "metadata": {
    "execution": {
     "iopub.execute_input": "2021-09-28T07:30:09.669264Z",
     "iopub.status.busy": "2021-09-28T07:30:09.669044Z",
     "iopub.status.idle": "2021-09-28T07:30:13.645583Z",
     "shell.execute_reply": "2021-09-28T07:30:13.644606Z",
     "shell.execute_reply.started": "2021-09-28T07:30:09.669239Z"
    }
   },
   "outputs": [],
   "source": [
    "model=get_model()\n",
    "model.summary()"
   ]
  },
  {
   "cell_type": "code",
   "execution_count": null,
   "metadata": {
    "execution": {
     "iopub.execute_input": "2021-09-28T07:30:13.647270Z",
     "iopub.status.busy": "2021-09-28T07:30:13.646968Z",
     "iopub.status.idle": "2021-09-28T07:30:28.833401Z",
     "shell.execute_reply": "2021-09-28T07:30:28.832514Z",
     "shell.execute_reply.started": "2021-09-28T07:30:13.647232Z"
    }
   },
   "outputs": [],
   "source": [
    "#---------------\n",
    "# callbacks\n",
    "#---------------\n",
    "# weight file path\n",
    "weight_path=\"segment.h5\"\n",
    "\n",
    "# reduces learning rate on plateau\n",
    "lr_reducer = tf.keras.callbacks.ReduceLROnPlateau(factor=0.1,\n",
    "                                                  cooldown= 10,\n",
    "                                                  patience=10,\n",
    "                                                  verbose =1,\n",
    "                                                  min_lr=0.1e-7)\n",
    "# saves the model\n",
    "model_autosave = tf.keras.callbacks.ModelCheckpoint(filepath=weight_path, \n",
    "                                                   monitor='val_loss', \n",
    "                                                   verbose=1, \n",
    "                                                   save_best_only=True, \n",
    "                                                   mode='min')\n",
    "\n",
    "# early stopping\n",
    "early_stopping = tf.keras.callbacks.EarlyStopping(patience=15, \n",
    "                                                  verbose=1, \n",
    "                                                  mode = 'auto') \n",
    "callbacks= [model_autosave,lr_reducer,early_stopping]\n",
    "                 \n",
    "losses = {\n",
    "\"label\":tf.keras.losses.CategoricalCrossentropy(),\n",
    "\"sigmoid\": tf.keras.losses.BinaryCrossentropy(),\n",
    "}\n",
    "#---------------\n",
    "# compile\n",
    "#---------------    \n",
    "with strategy.scope():\n",
    "    # model\n",
    "    model = get_model()\n",
    "    # compile\n",
    "    model.compile(optimizer=tf.keras.optimizers.Adam(0.0001),loss=losses)"
   ]
  },
  {
   "cell_type": "code",
   "execution_count": null,
   "metadata": {
    "execution": {
     "iopub.execute_input": "2021-09-28T07:30:28.835845Z",
     "iopub.status.busy": "2021-09-28T07:30:28.834721Z"
    }
   },
   "outputs": [],
   "source": [
    "history = model.fit(train_ds,\n",
    "                    epochs=EPOCHS,\n",
    "                    steps_per_epoch=STEPS_PER_EPOCH,\n",
    "                    verbose=1, \n",
    "                    validation_data=eval_ds,\n",
    "                    validation_steps=EVAL_STEPS, \n",
    "                    callbacks=callbacks)"
   ]
  },
  {
   "cell_type": "code",
   "execution_count": null,
   "metadata": {},
   "outputs": [],
   "source": [
    "# from IPython.display import FileLink\n",
    "# FileLink(r'segment.h5')"
   ]
  },
  {
   "cell_type": "code",
   "execution_count": null,
   "metadata": {},
   "outputs": [],
   "source": []
  }
 ],
 "metadata": {
  "kernelspec": {
   "display_name": "tfgpu",
   "language": "python",
   "name": "tfgpu"
  },
  "language_info": {
   "codemirror_mode": {
    "name": "ipython",
    "version": 3
   },
   "file_extension": ".py",
   "mimetype": "text/x-python",
   "name": "python",
   "nbconvert_exporter": "python",
   "pygments_lexer": "ipython3",
   "version": "3.8.8"
  }
 },
 "nbformat": 4,
 "nbformat_minor": 4
}
